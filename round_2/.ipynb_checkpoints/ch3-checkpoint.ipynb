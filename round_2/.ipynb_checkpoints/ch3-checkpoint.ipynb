{
 "cells": [
  {
   "cell_type": "code",
   "execution_count": 25,
   "metadata": {},
   "outputs": [],
   "source": [
    "\"\"\"\n",
    "Alexander Hay\n",
    "ME449\n",
    "\n",
    "Chapter 5 - Quiz\n",
    "\"\"\"\n",
    "import numpy as np\n",
    "import modern_robotics as mr"
   ]
  },
  {
   "cell_type": "code",
   "execution_count": 26,
   "metadata": {},
   "outputs": [
    {
     "name": "stdout",
     "output_type": "stream",
     "text": [
      "[[ 0 -1  0  0]\n",
      " [ 0  0 -1  0]\n",
      " [ 1  0  0  1]\n",
      " [ 0  0  0  1]]\n"
     ]
    }
   ],
   "source": [
    "# Problem 1\n",
    "\n",
    "xa = np.transpose([[0,0,1]])\n",
    "ya = np.transpose([[-1,0,0]])\n",
    "za = np.transpose([[0,-1,0]])\n",
    "\n",
    "p_sa = np.transpose([[0,0,1]])\n",
    "\n",
    "Rsa = xa\n",
    "Rsa = np.append(Rsa, ya,axis=1)\n",
    "Rsa = np.append(Rsa, za,axis=1)\n",
    "Tsa = np.append(Rsa,p_sa,axis=1)\n",
    "Tsa = np.append(Tsa,[[0,0,0,1]],axis=0)\n",
    "Tas = mr.TransInv(Tsa)\n",
    "\n",
    "print(Tsa)"
   ]
  },
  {
   "cell_type": "code",
   "execution_count": 27,
   "metadata": {},
   "outputs": [
    {
     "name": "stdout",
     "output_type": "stream",
     "text": [
      "[[ 1  0  0  0]\n",
      " [ 0  0 -1  0]\n",
      " [ 0  1  0 -2]\n",
      " [ 0  0  0  1]]\n"
     ]
    }
   ],
   "source": [
    "# Problem 2\n",
    "\n",
    "xb = np.transpose([[1,0,0]])\n",
    "yb = np.transpose([[0,0,-1]])\n",
    "zb = np.transpose([[0,1,0]])\n",
    "\n",
    "p_sb = np.transpose([[0,2,0]])\n",
    "\n",
    "Rsb = xb\n",
    "Rsb = np.append(Rsb, yb,axis=1)\n",
    "Rsb = np.append(Rsb, zb,axis=1)\n",
    "Tsb = np.append(Rsb,p_sb,axis=1)\n",
    "Tsb = np.append(Tsb,[[0,0,0,1]],axis=0)\n",
    "\n",
    "Tbs = mr.TransInv(Tsb)\n",
    "\n",
    "print(Tbs)"
   ]
  },
  {
   "cell_type": "code",
   "execution_count": 28,
   "metadata": {},
   "outputs": [
    {
     "name": "stdout",
     "output_type": "stream",
     "text": [
      "[[ 0 -1  0 -1]\n",
      " [-1  0  0  0]\n",
      " [ 0  0 -1 -2]\n",
      " [ 0  0  0  1]]\n"
     ]
    }
   ],
   "source": [
    "# Problem 3\n",
    "\n",
    "Tab = np.dot(Tas,Tsb)\n",
    "\n",
    "print(Tab)"
   ]
  },
  {
   "cell_type": "code",
   "execution_count": 29,
   "metadata": {},
   "outputs": [
    {
     "name": "stdout",
     "output_type": "stream",
     "text": [
      "T is in frame {s}\n"
     ]
    }
   ],
   "source": [
    "# Problem 4\n",
    "\n",
    "print(\"T is in frame {s}\")"
   ]
  },
  {
   "cell_type": "code",
   "execution_count": 33,
   "metadata": {},
   "outputs": [
    {
     "name": "stdout",
     "output_type": "stream",
     "text": [
      "[ 0  0 -2]\n"
     ]
    }
   ],
   "source": [
    "# Problem 5\n",
    "\n",
    "# p_bs = np.dot(Rsb, p_sb)\n",
    "# or\n",
    "p_bs = mr.TransToRp(mr.TransInv(Tsb))[1]\n",
    "print(p_bs)"
   ]
  },
  {
   "cell_type": "code",
   "execution_count": 32,
   "metadata": {},
   "outputs": [
    {
     "name": "stdout",
     "output_type": "stream",
     "text": [
      "q is not in {b} coordinates\n"
     ]
    }
   ],
   "source": [
    "# Problem 6\n",
    "\n",
    "print(\"q is not in {b} coordinates\")"
   ]
  },
  {
   "cell_type": "code",
   "execution_count": 36,
   "metadata": {},
   "outputs": [
    {
     "name": "stdout",
     "output_type": "stream",
     "text": [
      "[[ 1.]\n",
      " [-3.]\n",
      " [-2.]\n",
      " [-3.]\n",
      " [-1.]\n",
      " [ 5.]]\n"
     ]
    }
   ],
   "source": [
    "# Problem 7\n",
    "\n",
    "V_s = np.transpose([[3,2,1,-1,-2,-3]])\n",
    "\n",
    "V_a = np.dot(mr.Adjoint(Tas),V_s)\n",
    "\n",
    "print(V_a)"
   ]
  },
  {
   "cell_type": "code",
   "execution_count": 35,
   "metadata": {},
   "outputs": [
    {
     "data": {
      "text/plain": [
       "2.0944"
      ]
     },
     "execution_count": 35,
     "metadata": {},
     "output_type": "execute_result"
    }
   ],
   "source": [
    "# Problem 8\n",
    "\n",
    "2.0944"
   ]
  },
  {
   "cell_type": "code",
   "execution_count": null,
   "metadata": {},
   "outputs": [],
   "source": [
    "# Problem 9\n",
    "\n",
    "[[-0.61727288, -0.70368982,  0.35184491,  1.05553472],\n",
    " [ 0.70368982, -0.2938183 ,  0.64690915,  1.94072745],\n",
    " [-0.35184491,  0.64690915,  0.67654542, -0.97036373],\n",
    " [ 0.        ,  0.        ,  0.        ,  1.        ]]"
   ]
  },
  {
   "cell_type": "code",
   "execution_count": 37,
   "metadata": {},
   "outputs": [
    {
     "name": "stdout",
     "output_type": "stream",
     "text": [
      "[[-4.]\n",
      " [ 1.]\n",
      " [ 2.]\n",
      " [-1.]\n",
      " [-2.]\n",
      " [ 0.]]\n"
     ]
    }
   ],
   "source": [
    "# Problem 10\n",
    "\n",
    "F_b = np.transpose([[1,0,0,2,1,0]])\n",
    "\n",
    "Tba = mr.TransInv(Tab)\n",
    "\n",
    "\n",
    "\n",
    "F_a = np.dot(mr.Adjoint(Tba).T,F_b)\n",
    "\n",
    "print(F_a)"
   ]
  },
  {
   "cell_type": "code",
   "execution_count": 38,
   "metadata": {},
   "outputs": [
    {
     "name": "stdout",
     "output_type": "stream",
     "text": [
      "[[ 0  1  0  0]\n",
      " [-1  0  0  3]\n",
      " [ 0  0  1 -1]\n",
      " [ 0  0  0  1]]\n"
     ]
    }
   ],
   "source": [
    "# Problem 11\n",
    "\n",
    "T = np.array([[ 0,-1, 0, 3],\n",
    "              [ 1, 0, 0, 0],\n",
    "              [ 0, 0, 1, 1],\n",
    "              [ 0, 0, 0, 1]])\n",
    "\n",
    "print(mr.TransInv(T))"
   ]
  },
  {
   "cell_type": "code",
   "execution_count": 39,
   "metadata": {},
   "outputs": [
    {
     "name": "stdout",
     "output_type": "stream",
     "text": [
      "[[ 0.  0.  0.  0.]\n",
      " [ 0.  0. -1.  2.]\n",
      " [ 0.  1.  0.  3.]\n",
      " [ 0.  0.  0.  0.]]\n"
     ]
    }
   ],
   "source": [
    "# Problem 12\n",
    "\n",
    "V = np.transpose([[1,0,0,0,2,3]])\n",
    "\n",
    "print(mr.VecTose3(V))"
   ]
  },
  {
   "cell_type": "code",
   "execution_count": 40,
   "metadata": {},
   "outputs": [
    {
     "name": "stdout",
     "output_type": "stream",
     "text": [
      "[1 0 0 1 2 0]\n"
     ]
    }
   ],
   "source": [
    "# Problem 13\n",
    "\n",
    "s = [1,0,0]\n",
    "q = [0,0,2]\n",
    "h = 1\n",
    "\n",
    "print(mr.ScrewToAxis(q,s,h))"
   ]
  },
  {
   "cell_type": "code",
   "execution_count": 41,
   "metadata": {},
   "outputs": [
    {
     "name": "stdout",
     "output_type": "stream",
     "text": [
      "[[-3.67320510e-06 -1.00000000e+00  0.00000000e+00  3.00000551e+00]\n",
      " [ 1.00000000e+00 -3.67320510e-06  0.00000000e+00  5.50981777e-06]\n",
      " [ 0.00000000e+00  0.00000000e+00  1.00000000e+00  1.00000000e+00]\n",
      " [ 0.00000000e+00  0.00000000e+00  0.00000000e+00  1.00000000e+00]]\n"
     ]
    }
   ],
   "source": [
    "# Problem 14\n",
    "\n",
    "T = np.array([[0, -1.5708, 0, 2.3562],\n",
    "              [1.5708, 0, 0, -2.3562],\n",
    "              [0, 0, 0, 1],\n",
    "              [0,0,0,0]])\n",
    "\n",
    "print(mr.MatrixExp6(T))"
   ]
  },
  {
   "cell_type": "code",
   "execution_count": 42,
   "metadata": {},
   "outputs": [
    {
     "name": "stdout",
     "output_type": "stream",
     "text": [
      "[[ 0.         -1.57079633  0.          2.35619449]\n",
      " [ 1.57079633  0.          0.         -2.35619449]\n",
      " [ 0.          0.          0.          1.        ]\n",
      " [ 0.          0.          0.          0.        ]]\n"
     ]
    }
   ],
   "source": [
    "# Problem 15\n",
    "\n",
    "T = np.array([[0,-1, 0, 3],\n",
    "              [1, 0, 0, 0],\n",
    "              [0, 0, 1, 1],\n",
    "              [0, 0, 0, 1]])\n",
    "\n",
    "print(mr.MatrixLog6(T))"
   ]
  },
  {
   "cell_type": "code",
   "execution_count": null,
   "metadata": {},
   "outputs": [],
   "source": []
  }
 ],
 "metadata": {
  "kernelspec": {
   "display_name": "Python 3 (Spyder)",
   "language": "python3",
   "name": "python3"
  },
  "language_info": {
   "codemirror_mode": {
    "name": "ipython",
    "version": 3
   },
   "file_extension": ".py",
   "mimetype": "text/x-python",
   "name": "python",
   "nbconvert_exporter": "python",
   "pygments_lexer": "ipython3",
   "version": "3.6.9"
  }
 },
 "nbformat": 4,
 "nbformat_minor": 4
}
