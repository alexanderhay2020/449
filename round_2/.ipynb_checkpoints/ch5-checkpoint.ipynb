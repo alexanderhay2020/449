{
 "cells": [
  {
   "cell_type": "code",
   "execution_count": 5,
   "metadata": {},
   "outputs": [],
   "source": [
    "\"\"\"\n",
    "Alexander Hay\n",
    "ME449\n",
    "\n",
    "Chapter 5 - Quiz\n",
    "\"\"\"\n",
    "import numpy as np\n",
    "import modern_robotics as mr\n",
    "import sympy"
   ]
  },
  {
   "cell_type": "code",
   "execution_count": 6,
   "metadata": {},
   "outputs": [],
   "source": [
    "# Problem 1\n",
    "\n",
    "l1,l2,l3=1,1,1\n",
    "\n",
    "th1 = 0\n",
    "th2 = np.pi/2\n",
    "th3 = 0\n",
    "\n",
    "th = np.array([[th1,th2,th3]])\n",
    "\n",
    "j1 = np.transpose([[0,0,1,0,0,0]])\n",
    "\n",
    "j2v1 = l1*np.sin(th1)\n",
    "j2v2 = -l1*np.cos(th1)\n",
    "j2 = np.transpose([[0,0,1,j2v1,j2v2,0]])\n",
    "\n",
    "j3v1 = (l1*np.sin(th1)) + (l2*np.sin(th1+th2))\n",
    "j3v2 = (-l1*np.cos(th1)) - (l2*np.cos(th1+th2))\n",
    "j3 = np.transpose([[0,0,1,j3v1,j3v2,0]])\n",
    "\n",
    "J = np.append(j1,j2,axis=1)\n",
    "J = np.append(J,j3,axis=1)"
   ]
  },
  {
   "cell_type": "code",
   "execution_count": null,
   "metadata": {},
   "outputs": [],
   "source": []
  }
 ],
 "metadata": {
  "kernelspec": {
   "display_name": "Python 3 (Spyder)",
   "language": "python3",
   "name": "python3"
  },
  "language_info": {
   "codemirror_mode": {
    "name": "ipython",
    "version": 3
   },
   "file_extension": ".py",
   "mimetype": "text/x-python",
   "name": "python",
   "nbconvert_exporter": "python",
   "pygments_lexer": "ipython3",
   "version": "3.6.9"
  }
 },
 "nbformat": 4,
 "nbformat_minor": 4
}
