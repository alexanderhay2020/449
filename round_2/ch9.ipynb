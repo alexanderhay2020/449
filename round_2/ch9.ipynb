{
 "cells": [
  {
   "cell_type": "code",
   "execution_count": 2,
   "metadata": {},
   "outputs": [],
   "source": [
    "\"\"\"\n",
    "Alexander Hay\n",
    "ME449\n",
    "\n",
    "Chapter 5 - Quiz\n",
    "\"\"\"\n",
    "import numpy as np\n",
    "from numpy import linalg as la\n",
    "import modern_robotics as mr"
   ]
  },
  {
   "cell_type": "code",
   "execution_count": 8,
   "metadata": {},
   "outputs": [
    {
     "name": "stdout",
     "output_type": "stream",
     "text": [
      "s:0.68\n"
     ]
    }
   ],
   "source": [
    "\"\"\"Problem 5\"\"\"\n",
    "\n",
    "# Given:\n",
    "T = 5\n",
    "t = 3\n",
    "\n",
    "# Solve:\n",
    "s = mr.QuinticTimeScaling(T,t)\n",
    "\n",
    "print(\"s:\" + str(round(s,2)))"
   ]
  },
  {
   "cell_type": "code",
   "execution_count": 11,
   "metadata": {},
   "outputs": [
    {
     "name": "stdout",
     "output_type": "stream",
     "text": [
      "x_9:\n",
      "[[ 0.04229152 -0.04057269  0.99828116  0.93313173]\n",
      " [ 0.99828116  0.04229152 -0.04057269  1.97198558]\n",
      " [-0.04057269  0.99828116  0.04229152  2.88912137]\n",
      " [ 0.          0.          0.          1.        ]]\n"
     ]
    }
   ],
   "source": [
    "\"\"\"Problem 6\"\"\"\n",
    "\n",
    "# Given:\n",
    "x_start = eye(4)\n",
    "x_end = np.array([[0,0,1,1],[1,0,0,2],[0,1,0,3],[0,0,0,1]])\n",
    "\n",
    "Tf = 10\n",
    "N = 10\n",
    "method = 3\n",
    "\n",
    "# Solve for x_9 using Screw Trajectory\n",
    "\n",
    "traj = mr.ScrewTrajectory(x_start, x_end, Tf, N, method)\n",
    "\n",
    "print(\"x_9:\")\n",
    "print(traj[8])"
   ]
  },
  {
   "cell_type": "code",
   "execution_count": 16,
   "metadata": {},
   "outputs": [
    {
     "name": "stdout",
     "output_type": "stream",
     "text": [
      "x_9:\n",
      "[[ 0.01404133 -0.01384686  0.99980553  0.98846721]\n",
      " [ 0.99980553  0.01404133 -0.01384686  1.97693441]\n",
      " [-0.01384686  0.99980553  0.01404133  2.96540162]\n",
      " [ 0.          0.          0.          1.        ]]\n"
     ]
    }
   ],
   "source": [
    "\"\"\"Problem 7\"\"\"\n",
    "\n",
    "# Given: \n",
    "# x_start, x_end, Tf, and N are same as Problem 6\n",
    "method = 5\n",
    "\n",
    "# Solve for x_9 using Cartesian Trajectory\n",
    "\n",
    "traj = mr.CartesianTrajectory(x_start, x_end, Tf, N, method)\n",
    "\n",
    "print(\"x_9:\")\n",
    "print(traj[8])"
   ]
  },
  {
   "cell_type": "code",
   "execution_count": null,
   "metadata": {},
   "outputs": [],
   "source": []
  }
 ],
 "metadata": {
  "kernelspec": {
   "display_name": "Python 3 (Spyder)",
   "language": "python3",
   "name": "python3"
  },
  "language_info": {
   "codemirror_mode": {
    "name": "ipython",
    "version": 3
   },
   "file_extension": ".py",
   "mimetype": "text/x-python",
   "name": "python",
   "nbconvert_exporter": "python",
   "pygments_lexer": "ipython3",
   "version": "3.6.9"
  }
 },
 "nbformat": 4,
 "nbformat_minor": 4
}
