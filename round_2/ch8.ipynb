{
 "cells": [
  {
   "cell_type": "code",
   "execution_count": 8,
   "metadata": {},
   "outputs": [],
   "source": [
    "\"\"\"\n",
    "Alexander Hay\n",
    "ME449\n",
    "\n",
    "Chapter 8 - Quiz\n",
    "\"\"\"\n",
    "import numpy as np\n",
    "from numpy import linalg as la\n",
    "import modern_robotics as mr"
   ]
  },
  {
   "cell_type": "code",
   "execution_count": 12,
   "metadata": {},
   "outputs": [
    {
     "name": "stdout",
     "output_type": "stream",
     "text": [
      "[[187657.80600662      0.              0.        ]\n",
      " [     0.         187657.80600662      0.        ]\n",
      " [     0.              0.         187657.80145592]]\n"
     ]
    }
   ],
   "source": [
    "\"\"\"Problem 1\"\"\"\n",
    "\n",
    "p = 5600      # Density (kg/m3)\n",
    "d_cyl = 0.04  # Diameter (m), cylinder\n",
    "d_sph = 0.20  # Diameter (m), sphere\n",
    "l = 0.20      # Length (m)\n",
    "\n",
    "r_cyl = d_cyl/2\n",
    "r_sph = d_sph/2\n",
    "\n",
    "V_cyl = np.pi*(r_cyl**2)*l\n",
    "V_sph = (4*np.pi*10*10*10)/3\n",
    "\n",
    "m_cyl = p*V_cyl\n",
    "m_sph = p*V_sph\n",
    "\n",
    "Ixx_cyl = (m_cyl*((3*(r_cyl**2)) + l**2))/12\n",
    "Iyy_cyl = (m_cyl*((3*(r_cyl**2)) + l**2))/12\n",
    "Izz_cyl = (m_cyl*(r_cyl**2))/2\n",
    "\n",
    "Ixx_sph = m_sph*(2*r_sph**2)/5\n",
    "Iyy_sph = m_sph*(2*r_sph**2)/5\n",
    "Izz_sph = m_sph*(2*r_sph**2)/5\n",
    "\n",
    "Ixx = Ixx_sph + Ixx_cyl + Ixx_sph\n",
    "Iyy = Iyy_sph + Iyy_cyl + Iyy_sph\n",
    "Izz = Izz_sph + Izz_cyl + Izz_sph\n",
    "\n",
    "Ib = np.array([[Ixx,0,0],[0,Iyy,0],[0,0,Izz]])\n",
    "\n",
    "print(Ib)"
   ]
  },
  {
   "cell_type": "code",
   "execution_count": 10,
   "metadata": {},
   "outputs": [
    {
     "name": "stdout",
     "output_type": "stream",
     "text": [
      "[ 1.27670527e-02 -4.11476981e+01 -3.78093382e+00  3.23099099e-02\n",
      "  3.69529049e-02  1.03367459e-01]\n"
     ]
    }
   ],
   "source": [
    "\"\"\"Problem 2\"\"\"\n",
    "\n",
    "M01 = [[1, 0, 0, 0], [0, 1, 0, 0], [0, 0, 1, 0.089159], [0, 0, 0, 1]]\n",
    "M12 = [[0, 0, 1, 0.28], [0, 1, 0, 0.13585], [-1, 0, 0, 0], [0, 0, 0, 1]]\n",
    "M23 = [[1, 0, 0, 0], [0, 1, 0, -0.1197], [0, 0, 1, 0.395], [0, 0, 0, 1]]\n",
    "M34 = [[0, 0, 1, 0], [0, 1, 0, 0], [-1, 0, 0, 0.14225], [0, 0, 0, 1]]\n",
    "M45 = [[1, 0, 0, 0], [0, 1, 0, 0.093], [0, 0, 1, 0], [0, 0, 0, 1]]\n",
    "M56 = [[1, 0, 0, 0], [0, 1, 0, 0], [0, 0, 1, 0.09465], [0, 0, 0, 1]]\n",
    "M67 = [[1, 0, 0, 0], [0, 0, 1, 0.0823], [0, -1, 0, 0], [0, 0, 0, 1]]\n",
    "G1 = np.diag([0.010267495893, 0.010267495893,  0.00666, 3.7, 3.7, 3.7])\n",
    "G2 = np.diag([0.22689067591, 0.22689067591, 0.0151074, 8.393, 8.393, 8.393])\n",
    "G3 = np.diag([0.049443313556, 0.049443313556, 0.004095, 2.275, 2.275, 2.275])\n",
    "G4 = np.diag([0.111172755531, 0.111172755531, 0.21942, 1.219, 1.219, 1.219])\n",
    "G5 = np.diag([0.111172755531, 0.111172755531, 0.21942, 1.219, 1.219, 1.219])\n",
    "G6 = np.diag([0.0171364731454, 0.0171364731454, 0.033822, 0.1879, 0.1879, 0.1879])\n",
    "Glist = [G1, G2, G3, G4, G5, G6]\n",
    "Mlist = [M01, M12, M23, M34, M45, M56, M67] \n",
    "Slist = [[0,         0,         0,         0,        0,        0],\n",
    "         [0,         1,         1,         1,        0,        1],\n",
    "         [1,         0,         0,         0,       -1,        0],\n",
    "         [0, -0.089159, -0.089159, -0.089159, -0.10915, 0.005491],\n",
    "         [0,         0,         0,         0,  0.81725,        0],\n",
    "         [0,         0,     0.425,   0.81725,        0,  0.81725]]\n",
    "\n",
    "thetalist = [0,np.pi/6,np.pi/4,np.pi/3,np.pi/2,2*np.pi/3]\n",
    "dthetalist = [0.2,0.2,0.2,0.2,0.2,0.2]\n",
    "ddthetalist = [0.1,0.1,0.1,0.1,0.1,0.1]\n",
    "g = [0,0,-9.81]\n",
    "Ftip = [0.1,0.1,0.1,0.1,0.1,0.1]\n",
    "\n",
    "print(mr.InverseDynamics(thetalist,dthetalist,ddthetalist,g,Ftip,Mlist,Glist,Slist))"
   ]
  },
  {
   "cell_type": "code",
   "execution_count": null,
   "metadata": {},
   "outputs": [],
   "source": []
  }
 ],
 "metadata": {
  "kernelspec": {
   "display_name": "Python 3 (Spyder)",
   "language": "python3",
   "name": "python3"
  },
  "language_info": {
   "codemirror_mode": {
    "name": "ipython",
    "version": 3
   },
   "file_extension": ".py",
   "mimetype": "text/x-python",
   "name": "python",
   "nbconvert_exporter": "python",
   "pygments_lexer": "ipython3",
   "version": "3.6.9"
  }
 },
 "nbformat": 4,
 "nbformat_minor": 4
}
