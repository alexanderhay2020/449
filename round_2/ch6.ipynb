{
 "cells": [
  {
   "cell_type": "code",
   "execution_count": 1,
   "metadata": {},
   "outputs": [],
   "source": [
    "\"\"\"\n",
    "Alexander Hay\n",
    "ME449\n",
    "\n",
    "Chapter 5 - Quiz\n",
    "\"\"\"\n",
    "import numpy as np\n",
    "from numpy import linalg as la\n",
    "import modern_robotics as mr"
   ]
  },
  {
   "cell_type": "code",
   "execution_count": 4,
   "metadata": {},
   "outputs": [
    {
     "name": "stdout",
     "output_type": "stream",
     "text": [
      "-8 -1\n",
      "1 1\n",
      "[[-8 -1]]\n"
     ]
    }
   ],
   "source": [
    "\"\"\"Problem 1\"\"\"\n",
    "\n",
    "\n",
    "x0 = 1\n",
    "y0 = 1\n",
    "\n",
    "# first iteration\n",
    "[[x1,y1]] = np.transpose([[x0^2-9],[y0^2-4]])\n",
    "\n",
    "# second iteration\n",
    "[[x2,y2]] = np.transpose([[x1^2-9],[y1^2-4]])\n",
    "\n",
    "\n",
    "f_xy = np.transpose([[x2^2-9],[y2^2-4]])\n",
    "\n",
    "print(x1,y1)\n",
    "print(x2,y2)\n",
    "print(f_xy)"
   ]
  },
  {
   "cell_type": "code",
   "execution_count": 2,
   "metadata": {},
   "outputs": [
    {
     "name": "stdout",
     "output_type": "stream",
     "text": [
      "[0.78539816 0.78539816 0.78539816]\n"
     ]
    }
   ],
   "source": [
    "\"\"\"Problem 2\"\"\"\n",
    "\n",
    "# Find theta = [th1, th2, th3]\n",
    "\n",
    "Tsd = np.array([[-0.585, -0.811, 0, 0.076],\n",
    "                [0.811, -0.585,0,2.608],\n",
    "                [0,0,1,0],\n",
    "                [0,0,0,1]])\n",
    "\n",
    "th_0 = np.array([np.pi/4,np.pi/4,np.pi/4])\n",
    "ew = 0.001\n",
    "ev = 0.0001\n",
    "\n",
    "M = np.array([[1,0,0,3],\n",
    "              [0,1,0,0],\n",
    "              [0,0,1,0],\n",
    "              [0,0,0,1]])\n",
    "\n",
    "s1 = np.transpose([[0,0,1,0,0,0]])\n",
    "s2 = np.transpose([[0,0,1,0,-1,0]])\n",
    "s3 = np.transpose([[0,0,1,0,-2,0]])\n",
    "\n",
    "S = np.append(s1,s2,axis=1)\n",
    "S = np.append(S,s3,axis=1)\n",
    "\n",
    "# print(th_0)"
   ]
  },
  {
   "cell_type": "code",
   "execution_count": null,
   "metadata": {},
   "outputs": [],
   "source": []
  }
 ],
 "metadata": {
  "kernelspec": {
   "display_name": "Python 3 (Spyder)",
   "language": "python3",
   "name": "python3"
  },
  "language_info": {
   "codemirror_mode": {
    "name": "ipython",
    "version": 3
   },
   "file_extension": ".py",
   "mimetype": "text/x-python",
   "name": "python",
   "nbconvert_exporter": "python",
   "pygments_lexer": "ipython3",
   "version": "3.6.9"
  }
 },
 "nbformat": 4,
 "nbformat_minor": 4
}
